{
 "cells": [
  {
   "cell_type": "code",
   "execution_count": 27,
   "id": "b1ec442f",
   "metadata": {},
   "outputs": [],
   "source": [
    "import os\n",
    "import json\n",
    "from typing import Dict, List, Optional, Union, cast\n",
    "import requests\n",
    "import pandas as pd\n",
    "import bamboolib as bam\n",
    "\n",
    "import unicodedata\n",
    "import re\n",
    "import json\n",
    "\n",
    "import nltk\n",
    "from nltk.tokenize.toktok import ToktokTokenizer\n",
    "from nltk.corpus import stopwords\n",
    "from wordcloud import WordCloud\n",
    "\n",
    "from sklearn.model_selection import train_test_split\n",
    "from sklearn.linear_model import LogisticRegression\n",
    "from sklearn.metrics import classification_report, accuracy_score\n",
    "from sklearn.feature_extraction.text import TfidfVectorizer\n",
    "from sklearn.neighbors import KNeighborsClassifier\n",
    "from sklearn.metrics import confusion_matrix\n",
    "from sklearn.ensemble import RandomForestClassifier\n",
    "from sklearn.tree import DecisionTreeClassifier\n",
    "from sklearn.impute import SimpleImputer\n",
    "from sklearn.preprocessing import MinMaxScaler, StandardScaler, RobustScaler, QuantileTransformer\n",
    "from sklearn.cluster import KMeans\n",
    "\n",
    "from sklearn.metrics import mean_squared_error, r2_score\n",
    "from sklearn.feature_selection import f_regression \n",
    "\n",
    "#statistical tests\n",
    "from scipy import stats\n",
    "from scipy.stats import pearsonr, spearmanr\n",
    "\n",
    "from math import sqrt\n",
    "from sklearn.linear_model import LinearRegression, LassoLars, TweedieRegressor\n",
    "from sklearn.preprocessing import PolynomialFeatures\n",
    "\n",
    "\n",
    "import matplotlib.pyplot as plt\n",
    "import seaborn as sns\n",
    "import warnings\n",
    "warnings.filterwarnings(\"ignore\")\n",
    "\n",
    "from bs4 import BeautifulSoup\n",
    "import plotly.express as px\n",
    "\n",
    "#imports to show interactive visuals on github\n",
    "import plotly.io as pio\n",
    "\n",
    "import math\n",
    "from math import sqrt\n",
    "from reliability.Distributions import Weibull_Distribution"
   ]
  },
  {
   "cell_type": "code",
   "execution_count": 4,
   "id": "422daf48",
   "metadata": {},
   "outputs": [
    {
     "data": {
      "image/png": "[encoded data removed]",
      "text/plain": [
       "<Figure size 432x288 with 1 Axes>"
      ]
     },
     "metadata": {
      "needs_background": "light"
     },
     "output_type": "display_data"
    }
   ],
   "source": [
    "dist = Weibull_Distribution(alpha=50, beta=2)  # this created the distribution object\n",
    "dist.PDF()  # this creates the plot of the PDF\n",
    "plt.show()"
   ]
  },
  {
   "cell_type": "code",
   "execution_count": 9,
   "id": "e5042244",
   "metadata": {},
   "outputs": [],
   "source": [
    "from scipy import stats\n",
    "import numpy as np"
   ]
  },
  {
   "cell_type": "code",
   "execution_count": 10,
   "id": "156b7647",
   "metadata": {},
   "outputs": [],
   "source": [
    "n_trials = 100\n",
    "p = .02\n",
    "\n",
    "bcars = stats.binom(n_trials,p)"
   ]
  },
  {
   "cell_type": "code",
   "execution_count": 14,
   "id": "9e935996",
   "metadata": {},
   "outputs": [
    {
     "data": {
      "image/png": "[encoded data removed]",
      "text/plain": [
       "<Figure size 432x288 with 1 Axes>"
      ]
     },
     "metadata": {
      "needs_background": "light"
     },
     "output_type": "display_data"
    }
   ],
   "source": [
    "x = np.arange(0,12)\n",
    "y = stats.poisson(2).pmf(x)\n",
    "\n",
    "plt.bar(x,y)\n",
    "plt.xlabel('cars/hr')\n",
    "plt.ylabel('probability(X)')\n",
    "plt.title('cars per hr');"
   ]
  },
  {
   "cell_type": "markdown",
   "id": "0e7af6b3",
   "metadata": {},
   "source": [
    "# NLP"
   ]
  },
  {
   "cell_type": "code",
   "execution_count": 18,
   "id": "38ab3dad",
   "metadata": {},
   "outputs": [
    {
     "name": "stderr",
     "output_type": "stream",
     "text": [
      "[nltk_data] Downloading package stopwords to\n",
      "[nltk_data]     /Users/albertcontreras/nltk_data...\n",
      "[nltk_data]   Package stopwords is already up-to-date!\n"
     ]
    }
   ],
   "source": [
    "# We don't need to install nltk, it should come with anaconda, but nltk\n",
    "# does need to download some data.\n",
    "nltk.download('stopwords')\n",
    "from requests import get\n",
    "from bs4 import BeautifulSoup\n",
    "import os"
   ]
  },
  {
   "cell_type": "code",
   "execution_count": 19,
   "id": "42655fcd",
   "metadata": {},
   "outputs": [],
   "source": [
    "def basic_clean(string):\n",
    "    string = unicodedata.normalize('NFKD', string)\\\n",
    "        .encode('ascii', 'ignore')\\\n",
    "        .decode('utf-8', 'ignore')\\\n",
    "        .lower()\n",
    "    string = re.sub(r\"[^a-z0-9'\\s]\", '', string)                                \n",
    "    return string\n",
    "def tokenize(string):\n",
    "    #define tokenizer\n",
    "    tokenizer = nltk.tokenize.ToktokTokenizer()\n",
    "    # apply tokenization to the string.\n",
    "    string = tokenizer.tokenize(string, return_str= True)\n",
    "    #return tokenized string.\n",
    "    return string\n",
    "def stem(string) :\n",
    "    \"\"\"This function returns a string in stemmed format.\"\"\"\n",
    "    # create our stemming\n",
    "    ps = nltk.porter.PorterStemmer()\n",
    "    # split by the default\n",
    "    stem = [ps.stem(word) for word in string.split()]\n",
    "    # return to normal\n",
    "    string = ' '.join(stem)\n",
    "    return string\n",
    "def lemmatize(string):\n",
    "    \"\"\"This function returns a string with words lemmatized\"\"\"\n",
    "    # create our lemmatizer\n",
    "    wnl = nltk.stem.WordNetLemmatizer()\n",
    "    # use a list. comprehension to lemmatize each word\n",
    "    # string.split() => output a list of every token inside of the document\n",
    "    lemmas = [wnl.lemmatize(word) for word in string.split()]\n",
    "    # glue the lemmas back together by the strings we split on\n",
    "    string_lemmatize = ' '.join(lemmas)\n",
    "    #return the altered document\n",
    "    return string_lemmatize\n",
    "def remove_stopwords (string, extra_words = [], exclude_words = []):\n",
    "    \"This function takes in a string, optional extra_words and exclude_words parameters\"\n",
    "    # assian our stoowords from nltk into stooword list\n",
    "    stopword_list = stopwords.words('english')\n",
    "    # utilizing set casting, i will remove any excluded stopwords\n",
    "    stopword_list = set(stopword_list) - set(exclude_words)\n",
    "    # add in any extra words to my stopwords set using a union\n",
    "    stopword_list = stopword_list.union(set(extra_words))\n",
    "    #split document by spaces\n",
    "    words = string.split()\n",
    "    # every word in our document, as long as that word is not in our stopwords\n",
    "    filtered_words = [word for word in words if word not in stopword_list]\n",
    "    # glue it back together with spaces, as it was so it shall be\n",
    "    string_without_stopwords =' '.join(filtered_words)\n",
    "    # return the document back\n",
    "    return string_without_stopwords"
   ]
  },
  {
   "cell_type": "code",
   "execution_count": 20,
   "id": "9e2150e2",
   "metadata": {},
   "outputs": [],
   "source": [
    "def prep_TO_data(df, column, extra_words = [], exclude_words = []):\n",
    "                        \"\"\"This function take in a df and the string name for a text column with\n",
    "                        option to pass lists for extra words and exclude words and\n",
    "                        returns a df with the text article title, original text, stemmed text,\n",
    "                        lemmatized text, cleaned, tokenized, & lemmatized text with stopwords removed.\"\"\"\n",
    "                        df['clean'] = df[column].apply(basic_clean)\\\n",
    "                                                .apply(tokenize)\\\n",
    "                                                .apply(remove_stopwords, extra_words = extra_words, exclude_words= exclude_words)\n",
    "                        df['stemmed'] = df['clean'].apply(stem)\n",
    "                        df['lemmatized'] = df['clean'].apply(lemmatize)\n",
    "                        return df[['title', column, 'clean', 'stemmed','lemmatized']]"
   ]
  },
  {
   "cell_type": "markdown",
   "id": "344cf6e0",
   "metadata": {},
   "source": [
    "# Acquire T.O. DATA"
   ]
  },
  {
   "cell_type": "code",
   "execution_count": 24,
   "id": "dd79b8ca",
   "metadata": {},
   "outputs": [],
   "source": [
    "def T_O_DATA():\n",
    "        url = \"https://www.tinker.af.mil/Portals/106/Documents/Technical%20Orders/AFD-082216-00-20-2.pdf\"\n",
    "        headers = {'User-Agent': 'Codeup Data Science'} # Some websites don't accept the pyhon-requests default user-agent\n",
    "        response = get(url, headers=headers)\n",
    "        response.text\n",
    "        # Make a soup variable holding the response content\n",
    "        soup = BeautifulSoup(response.content, 'html.parser')\n",
    "        title = soup.find('h1', class_='entry-title'). text\n",
    "        content = soup.find('div', class_='entry-content').text.strip()\n",
    "        article = []\n",
    "        article_dict = {\n",
    "            'title': title,\n",
    "            'content': content,\n",
    "        }\n",
    "\n",
    "        article.append(article_dict)\n",
    "        return article"
   ]
  },
  {
   "cell_type": "code",
   "execution_count": 31,
   "id": "198033a3",
   "metadata": {},
   "outputs": [
    {
     "name": "stderr",
     "output_type": "stream",
     "text": [
      "Some characters could not be decoded, and were replaced with REPLACEMENT CHARACTER.\n"
     ]
    },
    {
     "data": {
      "application/vnd.jupyter.widget-view+json": {
       "model_id": "f667545371534438beecf86a176fcdb6"
      },
      "text/plain": [
       "Empty DataFrame\n",
       "Columns: []\n",
       "Index: []"
      ]
     },
     "metadata": {},
     "output_type": "display_data"
    }
   ],
   "source": [
    "def TO_articles():\n",
    "    url = 'https://www.tinker.af.mil/Portals/106/Documents/Technical%20Orders/AFD-082216-00-20-2.pdf'\n",
    "    headers = {'User-Agent': 'Codeup Data Science'} # Some websites don't accept the pyhon-requests default user-agent\n",
    "\n",
    "    response = get(url, headers=headers)\n",
    "\n",
    "    soup = BeautifulSoup(response.content, 'html.parser')\n",
    "\n",
    "    links = [a['href'] for a in soup.select('h2 a[href]')]\n",
    "\n",
    "    articles = []\n",
    "\n",
    "    for url in links:\n",
    "        url_response = get(url, headers=headers)\n",
    "        soup = BeautifulSoup(url_response.text)\n",
    "        \n",
    "        title = soup.find('h1', class_='entry-title'). text\n",
    "        content = soup.find('div', class_='entry-content').text.strip()\n",
    "        \n",
    "        article_dict = {\n",
    "            'title': title,\n",
    "            'content': content,\n",
    "        }\n",
    "        \n",
    "        articles.append(article_dict)\n",
    "        # use code like (articles[0:5]) to summon articles\n",
    "    return pd.DataFrame(articles)\n",
    "TO_articles()"
   ]
  },
  {
   "cell_type": "code",
   "execution_count": 28,
   "id": "ff397388",
   "metadata": {},
   "outputs": [
    {
     "name": "stderr",
     "output_type": "stream",
     "text": [
      "Some characters could not be decoded, and were replaced with REPLACEMENT CHARACTER.\n"
     ]
    },
    {
     "ename": "AttributeError",
     "evalue": "'NoneType' object has no attribute 'text'",
     "output_type": "error",
     "traceback": [
      "\u001b[0;31m---------------------------------------------------------------------------\u001b[0m",
      "\u001b[0;31mAttributeError\u001b[0m                            Traceback (most recent call last)",
      "\u001b[0;32m/var/folders/dc/8rtfvpyj2mb6mqbnfkf5dl400000gn/T/ipykernel_9183/2896287413.py\u001b[0m in \u001b[0;36m<module>\u001b[0;34m\u001b[0m\n\u001b[0;32m----> 1\u001b[0;31m \u001b[0mTO\u001b[0m \u001b[0;34m=\u001b[0m \u001b[0mT_O_DATA\u001b[0m\u001b[0;34m(\u001b[0m\u001b[0;34m)\u001b[0m\u001b[0;34m\u001b[0m\u001b[0;34m\u001b[0m\u001b[0m\n\u001b[0m\u001b[1;32m      2\u001b[0m \u001b[0mTO\u001b[0m\u001b[0;34m.\u001b[0m\u001b[0mrename\u001b[0m\u001b[0;34m(\u001b[0m\u001b[0mcolumns\u001b[0m\u001b[0;34m=\u001b[0m\u001b[0;34m{\u001b[0m\u001b[0;34m'content'\u001b[0m\u001b[0;34m:\u001b[0m\u001b[0;34m'original'\u001b[0m\u001b[0;34m}\u001b[0m\u001b[0;34m,\u001b[0m \u001b[0minplace\u001b[0m\u001b[0;34m=\u001b[0m\u001b[0;32mTrue\u001b[0m\u001b[0;34m)\u001b[0m\u001b[0;34m\u001b[0m\u001b[0;34m\u001b[0m\u001b[0m\n\u001b[1;32m      3\u001b[0m \u001b[0mTO\u001b[0m\u001b[0;34m\u001b[0m\u001b[0;34m\u001b[0m\u001b[0m\n",
      "\u001b[0;32m/var/folders/dc/8rtfvpyj2mb6mqbnfkf5dl400000gn/T/ipykernel_9183/1574575455.py\u001b[0m in \u001b[0;36mT_O_DATA\u001b[0;34m()\u001b[0m\n\u001b[1;32m      6\u001b[0m         \u001b[0;31m# Make a soup variable holding the response content\u001b[0m\u001b[0;34m\u001b[0m\u001b[0;34m\u001b[0m\u001b[0m\n\u001b[1;32m      7\u001b[0m         \u001b[0msoup\u001b[0m \u001b[0;34m=\u001b[0m \u001b[0mBeautifulSoup\u001b[0m\u001b[0;34m(\u001b[0m\u001b[0mresponse\u001b[0m\u001b[0;34m.\u001b[0m\u001b[0mcontent\u001b[0m\u001b[0;34m,\u001b[0m \u001b[0;34m'html.parser'\u001b[0m\u001b[0;34m)\u001b[0m\u001b[0;34m\u001b[0m\u001b[0;34m\u001b[0m\u001b[0m\n\u001b[0;32m----> 8\u001b[0;31m         \u001b[0mtitle\u001b[0m \u001b[0;34m=\u001b[0m \u001b[0msoup\u001b[0m\u001b[0;34m.\u001b[0m\u001b[0mfind\u001b[0m\u001b[0;34m(\u001b[0m\u001b[0;34m'h1'\u001b[0m\u001b[0;34m,\u001b[0m \u001b[0mclass_\u001b[0m\u001b[0;34m=\u001b[0m\u001b[0;34m'entry-title'\u001b[0m\u001b[0;34m)\u001b[0m\u001b[0;34m.\u001b[0m\u001b[0mtext\u001b[0m\u001b[0;34m\u001b[0m\u001b[0;34m\u001b[0m\u001b[0m\n\u001b[0m\u001b[1;32m      9\u001b[0m         \u001b[0mcontent\u001b[0m \u001b[0;34m=\u001b[0m \u001b[0msoup\u001b[0m\u001b[0;34m.\u001b[0m\u001b[0mfind\u001b[0m\u001b[0;34m(\u001b[0m\u001b[0;34m'div'\u001b[0m\u001b[0;34m,\u001b[0m \u001b[0mclass_\u001b[0m\u001b[0;34m=\u001b[0m\u001b[0;34m'entry-content'\u001b[0m\u001b[0;34m)\u001b[0m\u001b[0;34m.\u001b[0m\u001b[0mtext\u001b[0m\u001b[0;34m.\u001b[0m\u001b[0mstrip\u001b[0m\u001b[0;34m(\u001b[0m\u001b[0;34m)\u001b[0m\u001b[0;34m\u001b[0m\u001b[0;34m\u001b[0m\u001b[0m\n\u001b[1;32m     10\u001b[0m         \u001b[0marticle\u001b[0m \u001b[0;34m=\u001b[0m \u001b[0;34m[\u001b[0m\u001b[0;34m]\u001b[0m\u001b[0;34m\u001b[0m\u001b[0;34m\u001b[0m\u001b[0m\n",
      "\u001b[0;31mAttributeError\u001b[0m: 'NoneType' object has no attribute 'text'"
     ]
    }
   ],
   "source": [
    "TO = T_O_DATA()\n",
    "TO.rename(columns={'content':'original'}, inplace=True)\n",
    "TO"
   ]
  },
  {
   "cell_type": "code",
   "execution_count": null,
   "id": "27f9f5e2",
   "metadata": {},
   "outputs": [],
   "source": [
    "prep_TO_data(news_df, 'original', extra_words = ['ha'], exclude_words = ['no'])"
   ]
  },
  {
   "cell_type": "code",
   "execution_count": 38,
   "id": "af4b7064",
   "metadata": {},
   "outputs": [
    {
     "name": "stdout",
     "output_type": "stream",
     "text": [
      "<Response [200]>\n"
     ]
    }
   ],
   "source": [
    "url = 'https://www.tinker.af.mil/Portals/106/Documents/Technical%20Orders/AFD-082216-00-20-2.pdf'\n",
    "\n",
    "data = requests.get(url)\n",
    "soup = BeautifulSoup(data.content).text\n",
    "print(data)\n",
    "headers = {'User-Agent': 'Codeup Data Science'} # Some websites don't accept the pyhon-requests default user-agent\n",
    "response = get(url, headers=headers)"
   ]
  },
  {
   "cell_type": "code",
   "execution_count": 40,
   "id": "a94b26a2",
   "metadata": {
    "scrolled": false
   },
   "outputs": [],
   "source": [
    "#response.text"
   ]
  },
  {
   "cell_type": "code",
   "execution_count": 41,
   "id": "5358897e",
   "metadata": {},
   "outputs": [
    {
     "name": "stderr",
     "output_type": "stream",
     "text": [
      "Some characters could not be decoded, and were replaced with REPLACEMENT CHARACTER.\n"
     ]
    }
   ],
   "source": [
    "# Make a soup variable holding the response content\n",
    "soup = BeautifulSoup(response.content, 'html.parser')"
   ]
  },
  {
   "cell_type": "code",
   "execution_count": 42,
   "id": "9fd91f48",
   "metadata": {},
   "outputs": [],
   "source": [
    "soup.title"
   ]
  },
  {
   "cell_type": "code",
   "execution_count": null,
   "id": "e9939b01",
   "metadata": {},
   "outputs": [],
   "source": []
  }
 ],
 "metadata": {
  "kernelspec": {
   "display_name": "Python 3 (ipykernel)",
   "language": "python",
   "name": "python3"
  },
  "language_info": {
   "codemirror_mode": {
    "name": "ipython",
    "version": 3
   },
   "file_extension": ".py",
   "mimetype": "text/x-python",
   "name": "python",
   "nbconvert_exporter": "python",
   "pygments_lexer": "ipython3",
   "version": "3.9.7"
  }
 },
 "nbformat": 4,
 "nbformat_minor": 5
}
